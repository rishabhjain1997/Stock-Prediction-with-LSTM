{
 "cells": [
  {
   "cell_type": "markdown",
   "metadata": {},
   "source": [
    "#### Stock Market Prediction And Forecasting Using Stacked LSTM"
   ]
  },
  {
   "cell_type": "code",
   "execution_count": 122,
   "metadata": {},
   "outputs": [],
   "source": [
    "import api_key\n",
    "import numpy as np\n",
    "import pandas as pd\n",
    "import matplotlib.pyplot as plt\n",
    "import matplotlib.dates as mdates"
   ]
  },
  {
   "cell_type": "code",
   "execution_count": 123,
   "metadata": {},
   "outputs": [],
   "source": [
    "key = api_key.api_key"
   ]
  },
  {
   "cell_type": "code",
   "execution_count": 124,
   "metadata": {},
   "outputs": [],
   "source": [
    "import pandas_datareader as pdr\n",
    "df = pdr.get_data_tiingo('AAPL', api_key = key)\n",
    "# df.to_csv('AAPL.csv')"
   ]
  },
  {
   "cell_type": "code",
   "execution_count": 125,
   "metadata": {},
   "outputs": [],
   "source": [
    "# df = pd.read_csv('AAPL.csv')\n",
    "df.reset_index(inplace = True)"
   ]
  },
  {
   "cell_type": "code",
   "execution_count": 126,
   "metadata": {},
   "outputs": [],
   "source": [
    "df.drop('symbol', axis = 1, inplace = True)"
   ]
  },
  {
   "cell_type": "code",
   "execution_count": 127,
   "metadata": {},
   "outputs": [],
   "source": [
    "df = df[['close','date']]\n",
    "df.loc[:,'date'] = df['date'].apply(lambda x: x.date())"
   ]
  },
  {
   "cell_type": "code",
   "execution_count": 176,
   "metadata": {},
   "outputs": [
    {
     "data": {
      "text/html": [
       "<div>\n",
       "<style scoped>\n",
       "    .dataframe tbody tr th:only-of-type {\n",
       "        vertical-align: middle;\n",
       "    }\n",
       "\n",
       "    .dataframe tbody tr th {\n",
       "        vertical-align: top;\n",
       "    }\n",
       "\n",
       "    .dataframe thead th {\n",
       "        text-align: right;\n",
       "    }\n",
       "</style>\n",
       "<table border=\"1\" class=\"dataframe\">\n",
       "  <thead>\n",
       "    <tr style=\"text-align: right;\">\n",
       "      <th></th>\n",
       "      <th>close</th>\n",
       "      <th>date</th>\n",
       "    </tr>\n",
       "  </thead>\n",
       "  <tbody>\n",
       "    <tr>\n",
       "      <th>0</th>\n",
       "      <td>0.015201</td>\n",
       "      <td>2016-01-19</td>\n",
       "    </tr>\n",
       "    <tr>\n",
       "      <th>1</th>\n",
       "      <td>0.015514</td>\n",
       "      <td>2016-01-20</td>\n",
       "    </tr>\n",
       "    <tr>\n",
       "      <th>2</th>\n",
       "      <td>0.014336</td>\n",
       "      <td>2016-01-21</td>\n",
       "    </tr>\n",
       "    <tr>\n",
       "      <th>3</th>\n",
       "      <td>0.026651</td>\n",
       "      <td>2016-01-22</td>\n",
       "    </tr>\n",
       "    <tr>\n",
       "      <th>4</th>\n",
       "      <td>0.021888</td>\n",
       "      <td>2016-01-25</td>\n",
       "    </tr>\n",
       "  </tbody>\n",
       "</table>\n",
       "</div>"
      ],
      "text/plain": [
       "      close        date\n",
       "0  0.015201  2016-01-19\n",
       "1  0.015514  2016-01-20\n",
       "2  0.014336  2016-01-21\n",
       "3  0.026651  2016-01-22\n",
       "4  0.021888  2016-01-25"
      ]
     },
     "execution_count": 176,
     "metadata": {},
     "output_type": "execute_result"
    }
   ],
   "source": [
    "df.head()"
   ]
  },
  {
   "cell_type": "code",
   "execution_count": 177,
   "metadata": {},
   "outputs": [
    {
     "data": {
      "image/png": "[encoded data removed]",
      "text/plain": [
       "<Figure size 432x288 with 1 Axes>"
      ]
     },
     "metadata": {
      "needs_background": "light"
     },
     "output_type": "display_data"
    }
   ],
   "source": [
    "plt.figure()\n",
    "ax = plt.gca()\n",
    "formatter = mdates.DateFormatter(\"%Y-%m-%d\")\n",
    "ax.xaxis.set_major_formatter(formatter)\n",
    "locator = mdates.DayLocator(interval=200)\n",
    "ax.xaxis.set_major_locator(locator)\n",
    "plt.plot(df.date, df['close'])\n",
    "plt.gcf().autofmt_xdate()\n",
    "plt.show()"
   ]
  },
  {
   "cell_type": "markdown",
   "metadata": {},
   "source": [
    "### LSTM is sensitive to the scale of data, so we apply MinMax Scaler"
   ]
  },
  {
   "cell_type": "code",
   "execution_count": 178,
   "metadata": {},
   "outputs": [],
   "source": [
    "from sklearn.preprocessing import MinMaxScaler\n",
    "scaler = MinMaxScaler(feature_range = (0,1))\n",
    "df['close'] = pd.DataFrame(scaler.fit_transform(np.array(df['close']).reshape(-1,1)))"
   ]
  },
  {
   "cell_type": "code",
   "execution_count": 179,
   "metadata": {},
   "outputs": [],
   "source": [
    "## Splitting dataset into train and test split\n",
    "train_size = 0.65\n",
    "train_index = int((df['close'].shape[0] * train_size)//1)\n",
    "train_data = df.loc[:train_index-1,:]\n",
    "test_data = df.loc[train_index:,:]\n",
    "assert df.shape[0] == (train_data.shape[0] + test_data.shape[0])"
   ]
  },
  {
   "cell_type": "code",
   "execution_count": 180,
   "metadata": {},
   "outputs": [],
   "source": [
    "def create_dataset(dataset: pd.Series, time_step = 1) -> (np.array, np.array):\n",
    "    data = dataset.values\n",
    "    # time_step = 3\n",
    "    dataset_length = data.shape[0]\n",
    "    X_data = list()\n",
    "    y_data = list()\n",
    "    for index in range(0, dataset_length - time_step):\n",
    "        X_data.append((data[index:index+time_step]))\n",
    "        y_data.append(data[index+time_step])\n",
    "    X_data = np.array(X_data)\n",
    "    y_data = np.array(y_data)\n",
    "    return(X_data, y_data)"
   ]
  },
  {
   "cell_type": "code",
   "execution_count": 181,
   "metadata": {},
   "outputs": [
    {
     "data": {
      "text/plain": [
       "((718, 100), (718,))"
      ]
     },
     "execution_count": 181,
     "metadata": {},
     "output_type": "execute_result"
    }
   ],
   "source": [
    "time_step = 100\n",
    "X_train, y_train = create_dataset(train_data['close'], time_step)\n",
    "X_test, y_test = create_dataset(test_data['close'], time_step)\n",
    "X_train.shape, y_train.shape"
   ]
  },
  {
   "cell_type": "code",
   "execution_count": 182,
   "metadata": {},
   "outputs": [
    {
     "data": {
      "text/plain": [
       "((718, 100), (718,))"
      ]
     },
     "execution_count": 182,
     "metadata": {},
     "output_type": "execute_result"
    }
   ],
   "source": [
    "X_train.shape, y_train.shape"
   ]
  },
  {
   "cell_type": "code",
   "execution_count": 183,
   "metadata": {},
   "outputs": [
    {
     "data": {
      "text/plain": [
       "((341, 100), (341,))"
      ]
     },
     "execution_count": 183,
     "metadata": {},
     "output_type": "execute_result"
    }
   ],
   "source": [
    "X_test.shape, y_test.shape"
   ]
  },
  {
   "cell_type": "code",
   "execution_count": 189,
   "metadata": {},
   "outputs": [
    {
     "data": {
      "text/plain": [
       "(718, 100)"
      ]
     },
     "execution_count": 189,
     "metadata": {},
     "output_type": "execute_result"
    }
   ],
   "source": [
    "X_train.shape"
   ]
  },
  {
   "cell_type": "code",
   "execution_count": 190,
   "metadata": {},
   "outputs": [],
   "source": [
    "# Reshape input to be [samples, time steps, features] which is required for LSTM\n",
    "X_train = X_train.reshape(X_train.shape[0], X_train.shape[1], 1)\n",
    "X_test = X_test.reshape(X_test.shape[0], X_test.shape[1], 1)"
   ]
  },
  {
   "cell_type": "code",
   "execution_count": 191,
   "metadata": {},
   "outputs": [],
   "source": [
    "# Create the Stacked LSTM model\n",
    "from tensorflow.keras.models import Sequential\n",
    "from tensorflow.keras.layers import Dense\n",
    "from tensorflow.keras.layers import LSTM"
   ]
  },
  {
   "cell_type": "code",
   "execution_count": 196,
   "metadata": {},
   "outputs": [],
   "source": [
    "model = Sequential()\n",
    "model.add(LSTM(50, return_sequences = True, input_shape = (100,1)))\n",
    "model.add(LSTM(50, return_sequences = True))\n",
    "model.add(LSTM(50))\n",
    "model.add(Dense(1))\n",
    "model.compile(loss = 'mean_squared_error', optimizer = 'adam')"
   ]
  },
  {
   "cell_type": "code",
   "execution_count": 197,
   "metadata": {},
   "outputs": [
    {
     "name": "stdout",
     "output_type": "stream",
     "text": [
      "Model: \"sequential_2\"\n",
      "_________________________________________________________________\n",
      "Layer (type)                 Output Shape              Param #   \n",
      "=================================================================\n",
      "lstm_6 (LSTM)                (None, 100, 50)           10400     \n",
      "_________________________________________________________________\n",
      "lstm_7 (LSTM)                (None, 100, 50)           20200     \n",
      "_________________________________________________________________\n",
      "lstm_8 (LSTM)                (None, 50)                20200     \n",
      "_________________________________________________________________\n",
      "dense_2 (Dense)              (None, 1)                 51        \n",
      "=================================================================\n",
      "Total params: 50,851\n",
      "Trainable params: 50,851\n",
      "Non-trainable params: 0\n",
      "_________________________________________________________________\n"
     ]
    }
   ],
   "source": [
    "model.summary()"
   ]
  },
  {
   "cell_type": "code",
   "execution_count": 198,
   "metadata": {},
   "outputs": [
    {
     "name": "stdout",
     "output_type": "stream",
     "text": [
      "Epoch 1/100\n",
      "12/12 [==============================] - 3s 274ms/step - loss: 0.0063 - val_loss: 0.0517\n",
      "Epoch 2/100\n",
      "12/12 [==============================] - 2s 151ms/step - loss: 0.0016 - val_loss: 0.0244\n",
      "Epoch 3/100\n",
      "12/12 [==============================] - 1s 108ms/step - loss: 6.4327e-04 - val_loss: 0.0201\n",
      "Epoch 4/100\n",
      "12/12 [==============================] - 2s 137ms/step - loss: 3.7754e-04 - val_loss: 0.0196\n",
      "Epoch 5/100\n",
      "12/12 [==============================] - 1s 107ms/step - loss: 3.5908e-04 - val_loss: 0.0192\n",
      "Epoch 6/100\n",
      "12/12 [==============================] - 1s 107ms/step - loss: 3.4483e-04 - val_loss: 0.0187\n",
      "Epoch 7/100\n",
      "12/12 [==============================] - 1s 108ms/step - loss: 3.2578e-04 - val_loss: 0.0181\n",
      "Epoch 8/100\n",
      "12/12 [==============================] - 1s 108ms/step - loss: 3.2009e-04 - val_loss: 0.0176\n",
      "Epoch 9/100\n",
      "12/12 [==============================] - 1s 108ms/step - loss: 3.0791e-04 - val_loss: 0.0172\n",
      "Epoch 10/100\n",
      "12/12 [==============================] - 1s 111ms/step - loss: 2.9012e-04 - val_loss: 0.0167\n",
      "Epoch 11/100\n",
      "12/12 [==============================] - 1s 108ms/step - loss: 2.8474e-04 - val_loss: 0.0163\n",
      "Epoch 12/100\n",
      "12/12 [==============================] - 1s 108ms/step - loss: 2.6556e-04 - val_loss: 0.0157\n",
      "Epoch 13/100\n",
      "12/12 [==============================] - 1s 108ms/step - loss: 2.5703e-04 - val_loss: 0.0156\n",
      "Epoch 14/100\n",
      "12/12 [==============================] - 1s 108ms/step - loss: 2.5839e-04 - val_loss: 0.0149\n",
      "Epoch 15/100\n",
      "12/12 [==============================] - 1s 110ms/step - loss: 2.5617e-04 - val_loss: 0.0151\n",
      "Epoch 16/100\n",
      "12/12 [==============================] - 1s 109ms/step - loss: 2.1945e-04 - val_loss: 0.0148\n",
      "Epoch 17/100\n",
      "12/12 [==============================] - 1s 116ms/step - loss: 2.0893e-04 - val_loss: 0.0149\n",
      "Epoch 18/100\n",
      "12/12 [==============================] - 2s 126ms/step - loss: 2.3597e-04 - val_loss: 0.0167\n",
      "Epoch 19/100\n",
      "12/12 [==============================] - 1s 111ms/step - loss: 2.2983e-04 - val_loss: 0.0145\n",
      "Epoch 20/100\n",
      "12/12 [==============================] - 1s 109ms/step - loss: 2.1899e-04 - val_loss: 0.0152\n",
      "Epoch 21/100\n",
      "12/12 [==============================] - 1s 110ms/step - loss: 1.9766e-04 - val_loss: 0.0152\n",
      "Epoch 22/100\n",
      "12/12 [==============================] - 1s 109ms/step - loss: 1.8664e-04 - val_loss: 0.0158\n",
      "Epoch 23/100\n",
      "12/12 [==============================] - 1s 109ms/step - loss: 1.9043e-04 - val_loss: 0.0150\n",
      "Epoch 24/100\n",
      "12/12 [==============================] - 1s 112ms/step - loss: 1.8191e-04 - val_loss: 0.0151\n",
      "Epoch 25/100\n",
      "12/12 [==============================] - 1s 110ms/step - loss: 1.8917e-04 - val_loss: 0.0148\n",
      "Epoch 26/100\n",
      "12/12 [==============================] - 1s 110ms/step - loss: 1.8017e-04 - val_loss: 0.0151\n",
      "Epoch 27/100\n",
      "12/12 [==============================] - 1s 117ms/step - loss: 1.7916e-04 - val_loss: 0.0159\n",
      "Epoch 28/100\n",
      "12/12 [==============================] - 1s 117ms/step - loss: 2.0906e-04 - val_loss: 0.0138\n",
      "Epoch 29/100\n",
      "12/12 [==============================] - 1s 115ms/step - loss: 1.8360e-04 - val_loss: 0.0165\n",
      "Epoch 30/100\n",
      "12/12 [==============================] - 1s 116ms/step - loss: 2.0984e-04 - val_loss: 0.0138\n",
      "Epoch 31/100\n",
      "12/12 [==============================] - 1s 117ms/step - loss: 2.2109e-04 - val_loss: 0.0144\n",
      "Epoch 32/100\n",
      "12/12 [==============================] - 1s 117ms/step - loss: 1.7722e-04 - val_loss: 0.0140\n",
      "Epoch 33/100\n",
      "12/12 [==============================] - 1s 116ms/step - loss: 1.7733e-04 - val_loss: 0.0136\n",
      "Epoch 34/100\n",
      "12/12 [==============================] - 1s 116ms/step - loss: 2.0788e-04 - val_loss: 0.0141\n",
      "Epoch 35/100\n",
      "12/12 [==============================] - 1s 117ms/step - loss: 1.6865e-04 - val_loss: 0.0136\n",
      "Epoch 36/100\n",
      "12/12 [==============================] - 1s 116ms/step - loss: 1.6336e-04 - val_loss: 0.0136\n",
      "Epoch 37/100\n",
      "12/12 [==============================] - 1s 119ms/step - loss: 1.6869e-04 - val_loss: 0.0139\n",
      "Epoch 38/100\n",
      "12/12 [==============================] - 1s 116ms/step - loss: 1.6230e-04 - val_loss: 0.0134\n",
      "Epoch 39/100\n",
      "12/12 [==============================] - 1s 116ms/step - loss: 1.5841e-04 - val_loss: 0.0144\n",
      "Epoch 40/100\n",
      "12/12 [==============================] - 1s 118ms/step - loss: 1.8949e-04 - val_loss: 0.0133\n",
      "Epoch 41/100\n",
      "12/12 [==============================] - 1s 117ms/step - loss: 1.6211e-04 - val_loss: 0.0135\n",
      "Epoch 42/100\n",
      "12/12 [==============================] - 1s 118ms/step - loss: 1.5793e-04 - val_loss: 0.0133\n",
      "Epoch 43/100\n",
      "12/12 [==============================] - 1s 121ms/step - loss: 1.6037e-04 - val_loss: 0.0136\n",
      "Epoch 44/100\n",
      "12/12 [==============================] - 1s 119ms/step - loss: 1.5371e-04 - val_loss: 0.0130\n",
      "Epoch 45/100\n",
      "12/12 [==============================] - 1s 117ms/step - loss: 1.6096e-04 - val_loss: 0.0134\n",
      "Epoch 46/100\n",
      "12/12 [==============================] - 1s 119ms/step - loss: 1.5115e-04 - val_loss: 0.0129\n",
      "Epoch 47/100\n",
      "12/12 [==============================] - 1s 120ms/step - loss: 1.5038e-04 - val_loss: 0.0131\n",
      "Epoch 48/100\n",
      "12/12 [==============================] - 1s 120ms/step - loss: 1.6087e-04 - val_loss: 0.0127\n",
      "Epoch 49/100\n",
      "12/12 [==============================] - 1s 120ms/step - loss: 1.5228e-04 - val_loss: 0.0129\n",
      "Epoch 50/100\n",
      "12/12 [==============================] - 1s 119ms/step - loss: 1.4440e-04 - val_loss: 0.0124\n",
      "Epoch 51/100\n",
      "12/12 [==============================] - 1s 117ms/step - loss: 2.0959e-04 - val_loss: 0.0138\n",
      "Epoch 52/100\n",
      "12/12 [==============================] - 1s 120ms/step - loss: 1.5364e-04 - val_loss: 0.0125\n",
      "Epoch 53/100\n",
      "12/12 [==============================] - 1s 118ms/step - loss: 1.4137e-04 - val_loss: 0.0127\n",
      "Epoch 54/100\n",
      "12/12 [==============================] - 1s 118ms/step - loss: 1.5771e-04 - val_loss: 0.0122\n",
      "Epoch 55/100\n",
      "12/12 [==============================] - 1s 118ms/step - loss: 1.5013e-04 - val_loss: 0.0123\n",
      "Epoch 56/100\n",
      "12/12 [==============================] - 1s 118ms/step - loss: 1.5255e-04 - val_loss: 0.0120\n",
      "Epoch 57/100\n",
      "12/12 [==============================] - 1s 120ms/step - loss: 1.4417e-04 - val_loss: 0.0131\n",
      "Epoch 58/100\n",
      "12/12 [==============================] - 1s 121ms/step - loss: 1.3878e-04 - val_loss: 0.0114\n",
      "Epoch 59/100\n",
      "12/12 [==============================] - 1s 120ms/step - loss: 1.6395e-04 - val_loss: 0.0123\n",
      "Epoch 60/100\n",
      "12/12 [==============================] - 1s 125ms/step - loss: 1.5771e-04 - val_loss: 0.0115\n",
      "Epoch 61/100\n",
      "12/12 [==============================] - 1s 120ms/step - loss: 1.6120e-04 - val_loss: 0.0110\n",
      "Epoch 62/100\n",
      "12/12 [==============================] - 1s 120ms/step - loss: 1.4595e-04 - val_loss: 0.0116\n",
      "Epoch 63/100\n",
      "12/12 [==============================] - 1s 122ms/step - loss: 1.5924e-04 - val_loss: 0.0109\n",
      "Epoch 64/100\n",
      "12/12 [==============================] - 1s 118ms/step - loss: 1.3192e-04 - val_loss: 0.0120\n",
      "Epoch 65/100\n",
      "12/12 [==============================] - 1s 120ms/step - loss: 1.3313e-04 - val_loss: 0.0105\n",
      "Epoch 66/100\n",
      "12/12 [==============================] - 1s 121ms/step - loss: 1.5388e-04 - val_loss: 0.0114\n",
      "Epoch 67/100\n",
      "12/12 [==============================] - 1s 122ms/step - loss: 1.3345e-04 - val_loss: 0.0108\n",
      "Epoch 68/100\n",
      "12/12 [==============================] - 1s 120ms/step - loss: 1.3172e-04 - val_loss: 0.0100\n",
      "Epoch 69/100\n",
      "12/12 [==============================] - 1s 119ms/step - loss: 1.3097e-04 - val_loss: 0.0107\n",
      "Epoch 70/100\n",
      "12/12 [==============================] - 1s 119ms/step - loss: 1.3440e-04 - val_loss: 0.0100\n",
      "Epoch 71/100\n",
      "12/12 [==============================] - 1s 119ms/step - loss: 1.3585e-04 - val_loss: 0.0103\n",
      "Epoch 72/100\n",
      "12/12 [==============================] - 1s 122ms/step - loss: 1.2841e-04 - val_loss: 0.0097\n",
      "Epoch 73/100\n",
      "12/12 [==============================] - 1s 120ms/step - loss: 1.2728e-04 - val_loss: 0.0096\n",
      "Epoch 74/100\n",
      "12/12 [==============================] - 2s 150ms/step - loss: 1.2979e-04 - val_loss: 0.0093\n",
      "Epoch 75/100\n",
      "12/12 [==============================] - 1s 122ms/step - loss: 1.2243e-04 - val_loss: 0.0093\n",
      "Epoch 76/100\n",
      "12/12 [==============================] - 1s 122ms/step - loss: 1.2049e-04 - val_loss: 0.0089\n",
      "Epoch 77/100\n",
      "12/12 [==============================] - 1s 117ms/step - loss: 1.2572e-04 - val_loss: 0.0091\n",
      "Epoch 78/100\n",
      "12/12 [==============================] - 2s 139ms/step - loss: 1.2183e-04 - val_loss: 0.0088\n",
      "Epoch 79/100\n",
      "12/12 [==============================] - 1s 119ms/step - loss: 1.2027e-04 - val_loss: 0.0087\n",
      "Epoch 80/100\n",
      "12/12 [==============================] - 1s 120ms/step - loss: 1.1938e-04 - val_loss: 0.0084\n",
      "Epoch 81/100\n",
      "12/12 [==============================] - 1s 119ms/step - loss: 1.5456e-04 - val_loss: 0.0095\n",
      "Epoch 82/100\n",
      "12/12 [==============================] - 2s 135ms/step - loss: 1.3330e-04 - val_loss: 0.0083\n",
      "Epoch 83/100\n",
      "12/12 [==============================] - 2s 130ms/step - loss: 1.4271e-04 - val_loss: 0.0083\n",
      "Epoch 84/100\n",
      "12/12 [==============================] - 1s 120ms/step - loss: 1.1970e-04 - val_loss: 0.0083\n",
      "Epoch 85/100\n",
      "12/12 [==============================] - 1s 121ms/step - loss: 1.1058e-04 - val_loss: 0.0093\n",
      "Epoch 86/100\n",
      "12/12 [==============================] - 1s 119ms/step - loss: 1.2919e-04 - val_loss: 0.0080\n",
      "Epoch 87/100\n",
      "12/12 [==============================] - 1s 119ms/step - loss: 1.1603e-04 - val_loss: 0.0081\n",
      "Epoch 88/100\n",
      "12/12 [==============================] - 1s 120ms/step - loss: 1.1534e-04 - val_loss: 0.0082\n",
      "Epoch 89/100\n",
      "12/12 [==============================] - 1s 120ms/step - loss: 1.0842e-04 - val_loss: 0.0080\n",
      "Epoch 90/100\n",
      "12/12 [==============================] - 1s 116ms/step - loss: 1.1805e-04 - val_loss: 0.0080\n",
      "Epoch 91/100\n",
      "12/12 [==============================] - 1s 117ms/step - loss: 1.1979e-04 - val_loss: 0.0085\n",
      "Epoch 92/100\n",
      "12/12 [==============================] - 2s 128ms/step - loss: 1.0773e-04 - val_loss: 0.0075\n",
      "Epoch 93/100\n",
      "12/12 [==============================] - 2s 140ms/step - loss: 1.1370e-04 - val_loss: 0.0073\n",
      "Epoch 94/100\n",
      "12/12 [==============================] - 1s 119ms/step - loss: 1.1736e-04 - val_loss: 0.0075\n",
      "Epoch 95/100\n",
      "12/12 [==============================] - 1s 116ms/step - loss: 1.1311e-04 - val_loss: 0.0077\n",
      "Epoch 96/100\n",
      "12/12 [==============================] - 1s 115ms/step - loss: 1.1076e-04 - val_loss: 0.0074\n",
      "Epoch 97/100\n",
      "12/12 [==============================] - 1s 115ms/step - loss: 1.0486e-04 - val_loss: 0.0070\n",
      "Epoch 98/100\n",
      "12/12 [==============================] - 1s 116ms/step - loss: 1.0763e-04 - val_loss: 0.0074\n",
      "Epoch 99/100\n",
      "12/12 [==============================] - 1s 116ms/step - loss: 1.0136e-04 - val_loss: 0.0068\n",
      "Epoch 100/100\n",
      "12/12 [==============================] - 1s 115ms/step - loss: 1.0801e-04 - val_loss: 0.0070\n"
     ]
    },
    {
     "data": {
      "text/plain": [
       "<tensorflow.python.keras.callbacks.History at 0x7f4b7c778df0>"
      ]
     },
     "execution_count": 198,
     "metadata": {},
     "output_type": "execute_result"
    }
   ],
   "source": [
    "model.fit(X_train,y_train, validation_data = (X_test, y_test), epochs = 100, batch_size = 64, verbose = 1)"
   ]
  },
  {
   "cell_type": "code",
   "execution_count": 199,
   "metadata": {},
   "outputs": [
    {
     "data": {
      "text/plain": [
       "(718, 1)"
      ]
     },
     "execution_count": 199,
     "metadata": {},
     "output_type": "execute_result"
    }
   ],
   "source": [
    "train_predict = model.predict(X_train)\n",
    "test_predict = model.predict(X_test)\n",
    "train_predict.shape"
   ]
  },
  {
   "cell_type": "code",
   "execution_count": 200,
   "metadata": {},
   "outputs": [],
   "source": [
    "## Transform to original form\n",
    "train_predict = scaler.inverse_transform(train_predict)\n",
    "test_predict = scaler.inverse_transform(test_predict)"
   ]
  },
  {
   "cell_type": "code",
   "execution_count": 202,
   "metadata": {},
   "outputs": [
    {
     "name": "stdout",
     "output_type": "stream",
     "text": [
      "Train data RMSE: 0.010177997646851778\n",
      "Test data RMSE: 0.08343761670980618\n"
     ]
    }
   ],
   "source": [
    "## Calculating RMSE performance metrics \n",
    "import math\n",
    "from sklearn.metrics import mean_squared_error\n",
    "print(f\"Train data RMSE: {math.sqrt(mean_squared_error(y_train, train_predict))}\")\n",
    "print(f\"Test data RMSE: {math.sqrt(mean_squared_error(y_test, test_predict))}\")"
   ]
  },
  {
   "cell_type": "code",
   "execution_count": 207,
   "metadata": {},
   "outputs": [
    {
     "data": {
      "text/plain": [
       "array([[[0.01520144],\n",
       "        [0.01551413],\n",
       "        [0.01433554],\n",
       "        ...,\n",
       "        [0.02090198],\n",
       "        [0.02068551],\n",
       "        [0.02239327]],\n",
       "\n",
       "       [[0.01551413],\n",
       "        [0.01433554],\n",
       "        [0.02665063],\n",
       "        ...,\n",
       "        [0.02068551],\n",
       "        [0.02239327],\n",
       "        [0.02042093]],\n",
       "\n",
       "       [[0.01433554],\n",
       "        [0.02665063],\n",
       "        [0.02188815],\n",
       "        ...,\n",
       "        [0.02239327],\n",
       "        [0.02042093],\n",
       "        [0.01683704]],\n",
       "\n",
       "       ...,\n",
       "\n",
       "       [[0.24820204],\n",
       "        [0.22975346],\n",
       "        [0.20839447],\n",
       "        ...,\n",
       "        [0.26525556],\n",
       "        [0.26123873],\n",
       "        [0.2610463 ]],\n",
       "\n",
       "       [[0.22975346],\n",
       "        [0.20839447],\n",
       "        [0.20791341],\n",
       "        ...,\n",
       "        [0.26123873],\n",
       "        [0.2610463 ],\n",
       "        [0.26191221]],\n",
       "\n",
       "       [[0.20839447],\n",
       "        [0.20791341],\n",
       "        [0.19711365],\n",
       "        ...,\n",
       "        [0.2610463 ],\n",
       "        [0.26191221],\n",
       "        [0.26196031]]])"
      ]
     },
     "execution_count": 207,
     "metadata": {},
     "output_type": "execute_result"
    }
   ],
   "source": [
    "X_train"
   ]
  },
  {
   "cell_type": "code",
   "execution_count": null,
   "metadata": {},
   "outputs": [],
   "source": []
  }
 ],
 "metadata": {
  "kernelspec": {
   "display_name": "Python 3",
   "language": "python",
   "name": "python3"
  },
  "language_info": {
   "codemirror_mode": {
    "name": "ipython",
    "version": 3
   },
   "file_extension": ".py",
   "mimetype": "text/x-python",
   "name": "python",
   "nbconvert_exporter": "python",
   "pygments_lexer": "ipython3",
   "version": "3.8.5"
  }
 },
 "nbformat": 4,
 "nbformat_minor": 4
}
